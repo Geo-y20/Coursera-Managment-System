{
 "cells": [
  {
   "cell_type": "markdown",
   "id": "feb33084",
   "metadata": {
    "papermill": {
     "duration": 0.010999,
     "end_time": "2022-12-24T13:11:11.973043",
     "exception": false,
     "start_time": "2022-12-24T13:11:11.962044",
     "status": "completed"
    },
    "tags": []
   },
   "source": [
    "<div style=\"padding:20px;color:white;margin:0;font-size:300%;text-align:center;display:fill;border-radius:5px;background-color:#282c5c;overflow:hidden;font-weight:500\"><b>Coursera </b><br>EDA, Insights, Sentiment Analysis <br>Using Linear regression ML Model <br> </div>"
   ]
  },
  {
   "cell_type": "markdown",
   "id": "ffc60422",
   "metadata": {
    "papermill": {
     "duration": 0.011235,
     "end_time": "2022-12-24T13:11:11.996663",
     "exception": false,
     "start_time": "2022-12-24T13:11:11.985428",
     "status": "completed"
    },
    "tags": []
   },
   "source": [
    "<div style=\"padding:20px;color:white;margin:0;font-size:220%;text-align:center;display:fill;border-radius:5px;background-color:#282f85;overflow:hidden;font-weight:500\">Introduction</div>"
   ]
  },
  {
   "cell_type": "markdown",
   "id": "764b5718",
   "metadata": {
    "papermill": {
     "duration": 0.010193,
     "end_time": "2022-12-24T13:11:12.017211",
     "exception": false,
     "start_time": "2022-12-24T13:11:12.007018",
     "status": "completed"
    },
    "tags": []
   },
   "source": [
    "# ⌛️ 1. Introduction and problem\n",
    "\n",
    "## 1.1. About Coursera\n",
    "Coursera Inc. is a U.S.-based massive open online course provider founded in 2012 by Stanford University computer science professors Andrew Ng and Daphne Koller. Coursera works with universities and other organizations to offer online courses, certifications, and degrees in a variety of subjects.\n",
    "\n",
    "- Stock price: COUR (NYSE) $15.51 +0.02 (+0.13%) - May 20, 10:12 AM EDT\n",
    "- Founded: 2012\n",
    "- Headquarters: California, United States\n",
    "- Users: 92 million (2021)\n",
    "- Employees: 1,138 (December 2021)\n",
    "- Available in: Multilingual (40)\n",
    "- Founders: Andrew Ng, Daphne Koller\n",
    "* Our Reason &problem:\n",
    "  Here i A scrapped data from Coursera official web site. my project aims to help any new learner get the right course to  learn by just answering a few questions. It is an intelligent course recommendation system. Hence, This is a scraped data  from few educational websites. This is data scrapped from Coursera website.\n"
   ]
  },
  {
   "cell_type": "markdown",
   "id": "b7d43afb",
   "metadata": {
    "papermill": {
     "duration": 0.009964,
     "end_time": "2022-12-24T13:11:12.037482",
     "exception": false,
     "start_time": "2022-12-24T13:11:12.027518",
     "status": "completed"
    },
    "tags": []
   },
   "source": [
    "## 1.2. EDA\n",
    "Exploratory Data Analysis refers to the critical process of performing initial investigations on data so as to discover patterns,to spot anomalies,to test hypothesis and to check assumptions with the help of summary statistics and graphical representations."
   ]
  },
  {
   "cell_type": "markdown",
   "id": "02de6d7d",
   "metadata": {
    "papermill": {
     "duration": 0.010308,
     "end_time": "2022-12-24T13:11:12.057954",
     "exception": false,
     "start_time": "2022-12-24T13:11:12.047646",
     "status": "completed"
    },
    "tags": []
   },
   "source": [
    "<div style=\"padding:20px;color:white;margin:0;font-size:220%;text-align:center;display:fill;border-radius:5px;background-color:#282f85;overflow:hidden;font-weight:500\">Dataset Exploration</div>"
   ]
  },
  {
   "cell_type": "markdown",
   "id": "a38fb5e4",
   "metadata": {
    "papermill": {
     "duration": 0.009995,
     "end_time": "2022-12-24T13:11:12.078278",
     "exception": false,
     "start_time": "2022-12-24T13:11:12.068283",
     "status": "completed"
    },
    "tags": []
   },
   "source": [
    "# 🧾 2. Dataset Exploration"
   ]
  },
  {
   "cell_type": "markdown",
   "id": "d8b79d9a",
   "metadata": {
    "papermill": {
     "duration": 0.009971,
     "end_time": "2022-12-24T13:11:12.098529",
     "exception": false,
     "start_time": "2022-12-24T13:11:12.088558",
     "status": "completed"
    },
    "tags": []
   },
   "source": [
    "## Data Brief\n",
    "Course dataset scrapped from Coursera website. This dataset contains mainly 6 columns and 890 course data. The detailed description:\n",
    "\n",
    "1. course_title : Contains the course title.\n",
    "2. course_organization : It tells which organization is conducting the courses.\n",
    "3. courseCertificatetype : It has details about what are the different certifications available in courses.\n",
    "4. course_rating : It has the ratings associated with each course.\n",
    "5. course_difficulty : It tells about how difficult or what is the level of the course.\n",
    "6. coursestudentsenrolled : It has the number of students that are enrolled in the course."
   ]
  },
  {
   "cell_type": "markdown",
   "id": "cf8c1ee6",
   "metadata": {
    "papermill": {
     "duration": 0.010041,
     "end_time": "2022-12-24T13:11:12.118873",
     "exception": false,
     "start_time": "2022-12-24T13:11:12.108832",
     "status": "completed"
    },
    "tags": []
   },
   "source": [
    "<div style=\"padding:20px;color:white;margin:0;font-size:220%;text-align:center;display:fill;border-radius:5px;background-color:#282f85;overflow:hidden;font-weight:500\">Data Loading and Basic Review</div>"
   ]
  },
  {
   "cell_type": "markdown",
   "id": "99c40ffd",
   "metadata": {
    "papermill": {
     "duration": 0.010042,
     "end_time": "2022-12-24T13:11:12.139086",
     "exception": false,
     "start_time": "2022-12-24T13:11:12.129044",
     "status": "completed"
    },
    "tags": []
   },
   "source": [
    "# 📚 3. Data Loading and Basic Review"
   ]
  },
  {
   "cell_type": "markdown",
   "id": "815f1e01",
   "metadata": {
    "papermill": {
     "duration": 0.009911,
     "end_time": "2022-12-24T13:11:12.159144",
     "exception": false,
     "start_time": "2022-12-24T13:11:12.149233",
     "status": "completed"
    },
    "tags": []
   },
   "source": [
    "## 3.1. Required Modules"
   ]
  },
  {
   "cell_type": "code",
   "execution_count": 1,
   "id": "2f112144",
   "metadata": {
    "execution": {
     "iopub.execute_input": "2022-12-24T13:11:12.181232Z",
     "iopub.status.busy": "2022-12-24T13:11:12.180704Z",
     "iopub.status.idle": "2022-12-24T13:11:13.096252Z",
     "shell.execute_reply": "2022-12-24T13:11:13.095451Z"
    },
    "papermill": {
     "duration": 0.929628,
     "end_time": "2022-12-24T13:11:13.098907",
     "exception": false,
     "start_time": "2022-12-24T13:11:12.169279",
     "status": "completed"
    },
    "tags": []
   },
   "outputs": [],
   "source": [
    "import pandas as pd\n",
    "import numpy as np\n",
    "import matplotlib.pyplot as plt\n",
    "import seaborn as sns\n",
    "from sklearn.linear_model import LinearRegression\n",
    "from sklearn.metrics import mean_squared_error, mean_absolute_error, r2_score\n",
    "from sklearn.model_selection import train_test_split\n"
   ]
  },
  {
   "cell_type": "markdown",
   "id": "051657d5",
   "metadata": {
    "papermill": {
     "duration": 0.01021,
     "end_time": "2022-12-24T13:11:13.119752",
     "exception": false,
     "start_time": "2022-12-24T13:11:13.109542",
     "status": "completed"
    },
    "tags": []
   },
   "source": [
    "<div style=\"padding:20px;color:white;margin:0;font-size:220%;text-align:center;display:fill;border-radius:5px;background-color:#282f85;overflow:hidden;font-weight:500\"> Basic Exploration</div>"
   ]
  },
  {
   "cell_type": "markdown",
   "id": "70584100",
   "metadata": {
    "papermill": {
     "duration": 0.010691,
     "end_time": "2022-12-24T13:11:13.140802",
     "exception": false,
     "start_time": "2022-12-24T13:11:13.130111",
     "status": "completed"
    },
    "tags": []
   },
   "source": [
    "# 🧮 4.  Basic Exploration"
   ]
  },
  {
   "cell_type": "code",
   "execution_count": 2,
   "id": "ae2e4a07",
   "metadata": {
    "execution": {
     "iopub.execute_input": "2022-12-24T13:11:13.163012Z",
     "iopub.status.busy": "2022-12-24T13:11:13.162218Z",
     "iopub.status.idle": "2022-12-24T13:11:13.189258Z",
     "shell.execute_reply": "2022-12-24T13:11:13.188626Z"
    },
    "papermill": {
     "duration": 0.040095,
     "end_time": "2022-12-24T13:11:13.191150",
     "exception": false,
     "start_time": "2022-12-24T13:11:13.151055",
     "status": "completed"
    },
    "tags": []
   },
   "outputs": [],
   "source": [
    "coursera=pd.read_csv(\"/kaggle/input/coursera-course-dataset/coursea_data.csv\")\n",
    "coursera = pd.DataFrame(coursera)"
   ]
  },
  {
   "cell_type": "code",
   "execution_count": 3,
   "id": "ef6800f6",
   "metadata": {
    "execution": {
     "iopub.execute_input": "2022-12-24T13:11:13.213752Z",
     "iopub.status.busy": "2022-12-24T13:11:13.213224Z",
     "iopub.status.idle": "2022-12-24T13:11:13.232282Z",
     "shell.execute_reply": "2022-12-24T13:11:13.231471Z"
    },
    "papermill": {
     "duration": 0.032004,
     "end_time": "2022-12-24T13:11:13.233927",
     "exception": false,
     "start_time": "2022-12-24T13:11:13.201923",
     "status": "completed"
    },
    "tags": []
   },
   "outputs": [
    {
     "data": {
      "text/html": [
       "<div>\n",
       "<style scoped>\n",
       "    .dataframe tbody tr th:only-of-type {\n",
       "        vertical-align: middle;\n",
       "    }\n",
       "\n",
       "    .dataframe tbody tr th {\n",
       "        vertical-align: top;\n",
       "    }\n",
       "\n",
       "    .dataframe thead th {\n",
       "        text-align: right;\n",
       "    }\n",
       "</style>\n",
       "<table border=\"1\" class=\"dataframe\">\n",
       "  <thead>\n",
       "    <tr style=\"text-align: right;\">\n",
       "      <th></th>\n",
       "      <th>Unnamed: 0</th>\n",
       "      <th>course_title</th>\n",
       "      <th>course_organization</th>\n",
       "      <th>course_Certificate_type</th>\n",
       "      <th>course_rating</th>\n",
       "      <th>course_difficulty</th>\n",
       "      <th>course_students_enrolled</th>\n",
       "    </tr>\n",
       "  </thead>\n",
       "  <tbody>\n",
       "    <tr>\n",
       "      <th>0</th>\n",
       "      <td>134</td>\n",
       "      <td>(ISC)² Systems Security Certified Practitioner...</td>\n",
       "      <td>(ISC)²</td>\n",
       "      <td>SPECIALIZATION</td>\n",
       "      <td>4.7</td>\n",
       "      <td>Beginner</td>\n",
       "      <td>5.3k</td>\n",
       "    </tr>\n",
       "    <tr>\n",
       "      <th>1</th>\n",
       "      <td>743</td>\n",
       "      <td>A Crash Course in Causality:  Inferring Causal...</td>\n",
       "      <td>University of Pennsylvania</td>\n",
       "      <td>COURSE</td>\n",
       "      <td>4.7</td>\n",
       "      <td>Intermediate</td>\n",
       "      <td>17k</td>\n",
       "    </tr>\n",
       "    <tr>\n",
       "      <th>2</th>\n",
       "      <td>874</td>\n",
       "      <td>A Crash Course in Data Science</td>\n",
       "      <td>Johns Hopkins University</td>\n",
       "      <td>COURSE</td>\n",
       "      <td>4.5</td>\n",
       "      <td>Mixed</td>\n",
       "      <td>130k</td>\n",
       "    </tr>\n",
       "    <tr>\n",
       "      <th>3</th>\n",
       "      <td>413</td>\n",
       "      <td>A Law Student's Toolkit</td>\n",
       "      <td>Yale University</td>\n",
       "      <td>COURSE</td>\n",
       "      <td>4.7</td>\n",
       "      <td>Mixed</td>\n",
       "      <td>91k</td>\n",
       "    </tr>\n",
       "    <tr>\n",
       "      <th>4</th>\n",
       "      <td>635</td>\n",
       "      <td>A Life of Happiness and Fulfillment</td>\n",
       "      <td>Indian School of Business</td>\n",
       "      <td>COURSE</td>\n",
       "      <td>4.8</td>\n",
       "      <td>Mixed</td>\n",
       "      <td>320k</td>\n",
       "    </tr>\n",
       "    <tr>\n",
       "      <th>5</th>\n",
       "      <td>661</td>\n",
       "      <td>ADHD: Everyday Strategies for Elementary Students</td>\n",
       "      <td>University at Buffalo</td>\n",
       "      <td>COURSE</td>\n",
       "      <td>4.7</td>\n",
       "      <td>Beginner</td>\n",
       "      <td>39k</td>\n",
       "    </tr>\n",
       "    <tr>\n",
       "      <th>6</th>\n",
       "      <td>54</td>\n",
       "      <td>AI For Everyone</td>\n",
       "      <td>deeplearning.ai</td>\n",
       "      <td>COURSE</td>\n",
       "      <td>4.8</td>\n",
       "      <td>Beginner</td>\n",
       "      <td>350k</td>\n",
       "    </tr>\n",
       "    <tr>\n",
       "      <th>7</th>\n",
       "      <td>488</td>\n",
       "      <td>AI For Medical Treatment</td>\n",
       "      <td>deeplearning.ai</td>\n",
       "      <td>COURSE</td>\n",
       "      <td>4.8</td>\n",
       "      <td>Intermediate</td>\n",
       "      <td>2.4k</td>\n",
       "    </tr>\n",
       "    <tr>\n",
       "      <th>8</th>\n",
       "      <td>58</td>\n",
       "      <td>AI Foundations for Everyone</td>\n",
       "      <td>IBM</td>\n",
       "      <td>SPECIALIZATION</td>\n",
       "      <td>4.7</td>\n",
       "      <td>Beginner</td>\n",
       "      <td>61k</td>\n",
       "    </tr>\n",
       "    <tr>\n",
       "      <th>9</th>\n",
       "      <td>129</td>\n",
       "      <td>AI for Medical Diagnosis</td>\n",
       "      <td>deeplearning.ai</td>\n",
       "      <td>COURSE</td>\n",
       "      <td>4.7</td>\n",
       "      <td>Intermediate</td>\n",
       "      <td>12k</td>\n",
       "    </tr>\n",
       "    <tr>\n",
       "      <th>10</th>\n",
       "      <td>283</td>\n",
       "      <td>AI for Medical Prognosis</td>\n",
       "      <td>deeplearning.ai</td>\n",
       "      <td>COURSE</td>\n",
       "      <td>4.6</td>\n",
       "      <td>Intermediate</td>\n",
       "      <td>4k</td>\n",
       "    </tr>\n",
       "    <tr>\n",
       "      <th>11</th>\n",
       "      <td>35</td>\n",
       "      <td>AI for Medicine</td>\n",
       "      <td>deeplearning.ai</td>\n",
       "      <td>SPECIALIZATION</td>\n",
       "      <td>4.7</td>\n",
       "      <td>Intermediate</td>\n",
       "      <td>13k</td>\n",
       "    </tr>\n",
       "    <tr>\n",
       "      <th>12</th>\n",
       "      <td>43</td>\n",
       "      <td>AWS Fundamentals</td>\n",
       "      <td>Amazon Web Services</td>\n",
       "      <td>SPECIALIZATION</td>\n",
       "      <td>4.6</td>\n",
       "      <td>Beginner</td>\n",
       "      <td>130k</td>\n",
       "    </tr>\n",
       "    <tr>\n",
       "      <th>13</th>\n",
       "      <td>631</td>\n",
       "      <td>AWS Fundamentals: Addressing Security Risk</td>\n",
       "      <td>Amazon Web Services</td>\n",
       "      <td>COURSE</td>\n",
       "      <td>4.3</td>\n",
       "      <td>Beginner</td>\n",
       "      <td>11k</td>\n",
       "    </tr>\n",
       "    <tr>\n",
       "      <th>14</th>\n",
       "      <td>861</td>\n",
       "      <td>AWS Fundamentals: Building Serverless Applicat...</td>\n",
       "      <td>Amazon Web Services</td>\n",
       "      <td>COURSE</td>\n",
       "      <td>4.7</td>\n",
       "      <td>Beginner</td>\n",
       "      <td>27k</td>\n",
       "    </tr>\n",
       "  </tbody>\n",
       "</table>\n",
       "</div>"
      ],
      "text/plain": [
       "    Unnamed: 0                                       course_title  \\\n",
       "0          134  (ISC)² Systems Security Certified Practitioner...   \n",
       "1          743  A Crash Course in Causality:  Inferring Causal...   \n",
       "2          874                     A Crash Course in Data Science   \n",
       "3          413                            A Law Student's Toolkit   \n",
       "4          635                A Life of Happiness and Fulfillment   \n",
       "5          661  ADHD: Everyday Strategies for Elementary Students   \n",
       "6           54                                    AI For Everyone   \n",
       "7          488                           AI For Medical Treatment   \n",
       "8           58                        AI Foundations for Everyone   \n",
       "9          129                           AI for Medical Diagnosis   \n",
       "10         283                           AI for Medical Prognosis   \n",
       "11          35                                    AI for Medicine   \n",
       "12          43                                   AWS Fundamentals   \n",
       "13         631         AWS Fundamentals: Addressing Security Risk   \n",
       "14         861  AWS Fundamentals: Building Serverless Applicat...   \n",
       "\n",
       "           course_organization course_Certificate_type  course_rating  \\\n",
       "0                       (ISC)²          SPECIALIZATION            4.7   \n",
       "1   University of Pennsylvania                  COURSE            4.7   \n",
       "2     Johns Hopkins University                  COURSE            4.5   \n",
       "3              Yale University                  COURSE            4.7   \n",
       "4    Indian School of Business                  COURSE            4.8   \n",
       "5        University at Buffalo                  COURSE            4.7   \n",
       "6              deeplearning.ai                  COURSE            4.8   \n",
       "7              deeplearning.ai                  COURSE            4.8   \n",
       "8                          IBM          SPECIALIZATION            4.7   \n",
       "9              deeplearning.ai                  COURSE            4.7   \n",
       "10             deeplearning.ai                  COURSE            4.6   \n",
       "11             deeplearning.ai          SPECIALIZATION            4.7   \n",
       "12         Amazon Web Services          SPECIALIZATION            4.6   \n",
       "13         Amazon Web Services                  COURSE            4.3   \n",
       "14         Amazon Web Services                  COURSE            4.7   \n",
       "\n",
       "   course_difficulty course_students_enrolled  \n",
       "0           Beginner                     5.3k  \n",
       "1       Intermediate                      17k  \n",
       "2              Mixed                     130k  \n",
       "3              Mixed                      91k  \n",
       "4              Mixed                     320k  \n",
       "5           Beginner                      39k  \n",
       "6           Beginner                     350k  \n",
       "7       Intermediate                     2.4k  \n",
       "8           Beginner                      61k  \n",
       "9       Intermediate                      12k  \n",
       "10      Intermediate                       4k  \n",
       "11      Intermediate                      13k  \n",
       "12          Beginner                     130k  \n",
       "13          Beginner                      11k  \n",
       "14          Beginner                      27k  "
      ]
     },
     "execution_count": 3,
     "metadata": {},
     "output_type": "execute_result"
    }
   ],
   "source": [
    "coursera.head(15)"
   ]
  },
  {
   "cell_type": "code",
   "execution_count": 4,
   "id": "df03c7d5",
   "metadata": {
    "execution": {
     "iopub.execute_input": "2022-12-24T13:11:13.256852Z",
     "iopub.status.busy": "2022-12-24T13:11:13.256498Z",
     "iopub.status.idle": "2022-12-24T13:11:13.280033Z",
     "shell.execute_reply": "2022-12-24T13:11:13.279138Z"
    },
    "papermill": {
     "duration": 0.037122,
     "end_time": "2022-12-24T13:11:13.282164",
     "exception": false,
     "start_time": "2022-12-24T13:11:13.245042",
     "status": "completed"
    },
    "tags": []
   },
   "outputs": [
    {
     "data": {
      "text/html": [
       "<div>\n",
       "<style scoped>\n",
       "    .dataframe tbody tr th:only-of-type {\n",
       "        vertical-align: middle;\n",
       "    }\n",
       "\n",
       "    .dataframe tbody tr th {\n",
       "        vertical-align: top;\n",
       "    }\n",
       "\n",
       "    .dataframe thead th {\n",
       "        text-align: right;\n",
       "    }\n",
       "</style>\n",
       "<table border=\"1\" class=\"dataframe\">\n",
       "  <thead>\n",
       "    <tr style=\"text-align: right;\">\n",
       "      <th></th>\n",
       "      <th>count</th>\n",
       "      <th>unique</th>\n",
       "      <th>top</th>\n",
       "      <th>freq</th>\n",
       "    </tr>\n",
       "  </thead>\n",
       "  <tbody>\n",
       "    <tr>\n",
       "      <th>course_title</th>\n",
       "      <td>891</td>\n",
       "      <td>888</td>\n",
       "      <td>Developing Your Musicianship</td>\n",
       "      <td>2</td>\n",
       "    </tr>\n",
       "    <tr>\n",
       "      <th>course_organization</th>\n",
       "      <td>891</td>\n",
       "      <td>154</td>\n",
       "      <td>University of Pennsylvania</td>\n",
       "      <td>59</td>\n",
       "    </tr>\n",
       "    <tr>\n",
       "      <th>course_Certificate_type</th>\n",
       "      <td>891</td>\n",
       "      <td>3</td>\n",
       "      <td>COURSE</td>\n",
       "      <td>582</td>\n",
       "    </tr>\n",
       "    <tr>\n",
       "      <th>course_difficulty</th>\n",
       "      <td>891</td>\n",
       "      <td>4</td>\n",
       "      <td>Beginner</td>\n",
       "      <td>487</td>\n",
       "    </tr>\n",
       "    <tr>\n",
       "      <th>course_students_enrolled</th>\n",
       "      <td>891</td>\n",
       "      <td>205</td>\n",
       "      <td>120k</td>\n",
       "      <td>22</td>\n",
       "    </tr>\n",
       "  </tbody>\n",
       "</table>\n",
       "</div>"
      ],
      "text/plain": [
       "                         count unique                           top freq\n",
       "course_title               891    888  Developing Your Musicianship    2\n",
       "course_organization        891    154    University of Pennsylvania   59\n",
       "course_Certificate_type    891      3                        COURSE  582\n",
       "course_difficulty          891      4                      Beginner  487\n",
       "course_students_enrolled   891    205                          120k   22"
      ]
     },
     "execution_count": 4,
     "metadata": {},
     "output_type": "execute_result"
    }
   ],
   "source": [
    "coursera.describe(include=['object']).T"
   ]
  },
  {
   "cell_type": "code",
   "execution_count": 5,
   "id": "8f529279",
   "metadata": {
    "execution": {
     "iopub.execute_input": "2022-12-24T13:11:13.305439Z",
     "iopub.status.busy": "2022-12-24T13:11:13.305117Z",
     "iopub.status.idle": "2022-12-24T13:11:13.321496Z",
     "shell.execute_reply": "2022-12-24T13:11:13.320622Z"
    },
    "papermill": {
     "duration": 0.029967,
     "end_time": "2022-12-24T13:11:13.323217",
     "exception": false,
     "start_time": "2022-12-24T13:11:13.293250",
     "status": "completed"
    },
    "tags": []
   },
   "outputs": [
    {
     "data": {
      "text/html": [
       "<div>\n",
       "<style scoped>\n",
       "    .dataframe tbody tr th:only-of-type {\n",
       "        vertical-align: middle;\n",
       "    }\n",
       "\n",
       "    .dataframe tbody tr th {\n",
       "        vertical-align: top;\n",
       "    }\n",
       "\n",
       "    .dataframe thead th {\n",
       "        text-align: right;\n",
       "    }\n",
       "</style>\n",
       "<table border=\"1\" class=\"dataframe\">\n",
       "  <thead>\n",
       "    <tr style=\"text-align: right;\">\n",
       "      <th></th>\n",
       "      <th>Unnamed: 0</th>\n",
       "      <th>course_rating</th>\n",
       "    </tr>\n",
       "  </thead>\n",
       "  <tbody>\n",
       "    <tr>\n",
       "      <th>count</th>\n",
       "      <td>891.000000</td>\n",
       "      <td>891.000000</td>\n",
       "    </tr>\n",
       "    <tr>\n",
       "      <th>mean</th>\n",
       "      <td>445.000000</td>\n",
       "      <td>4.677329</td>\n",
       "    </tr>\n",
       "    <tr>\n",
       "      <th>std</th>\n",
       "      <td>257.353842</td>\n",
       "      <td>0.162225</td>\n",
       "    </tr>\n",
       "    <tr>\n",
       "      <th>min</th>\n",
       "      <td>0.000000</td>\n",
       "      <td>3.300000</td>\n",
       "    </tr>\n",
       "    <tr>\n",
       "      <th>25%</th>\n",
       "      <td>222.500000</td>\n",
       "      <td>4.600000</td>\n",
       "    </tr>\n",
       "    <tr>\n",
       "      <th>50%</th>\n",
       "      <td>445.000000</td>\n",
       "      <td>4.700000</td>\n",
       "    </tr>\n",
       "    <tr>\n",
       "      <th>75%</th>\n",
       "      <td>667.500000</td>\n",
       "      <td>4.800000</td>\n",
       "    </tr>\n",
       "    <tr>\n",
       "      <th>max</th>\n",
       "      <td>890.000000</td>\n",
       "      <td>5.000000</td>\n",
       "    </tr>\n",
       "  </tbody>\n",
       "</table>\n",
       "</div>"
      ],
      "text/plain": [
       "       Unnamed: 0  course_rating\n",
       "count  891.000000     891.000000\n",
       "mean   445.000000       4.677329\n",
       "std    257.353842       0.162225\n",
       "min      0.000000       3.300000\n",
       "25%    222.500000       4.600000\n",
       "50%    445.000000       4.700000\n",
       "75%    667.500000       4.800000\n",
       "max    890.000000       5.000000"
      ]
     },
     "execution_count": 5,
     "metadata": {},
     "output_type": "execute_result"
    }
   ],
   "source": [
    "coursera.describe()"
   ]
  },
  {
   "cell_type": "markdown",
   "id": "19162e4c",
   "metadata": {
    "papermill": {
     "duration": 0.01083,
     "end_time": "2022-12-24T13:11:13.345020",
     "exception": false,
     "start_time": "2022-12-24T13:11:13.334190",
     "status": "completed"
    },
    "tags": []
   },
   "source": [
    "## 4.2 Initial plan for data exploration\n",
    "\n",
    "Data Exploration\n",
    "1. Ploting course_rating to get a overview of the distribution.\n",
    "2. analyzing course Certificate types values.\n",
    "\n",
    "Data Cleaning\n",
    "1. Deleting first Unnamed column\n",
    "2. Rename column course certficate type to course certficate"
   ]
  },
  {
   "cell_type": "code",
   "execution_count": 6,
   "id": "12d7c5be",
   "metadata": {
    "execution": {
     "iopub.execute_input": "2022-12-24T13:11:13.367995Z",
     "iopub.status.busy": "2022-12-24T13:11:13.367658Z",
     "iopub.status.idle": "2022-12-24T13:11:13.372860Z",
     "shell.execute_reply": "2022-12-24T13:11:13.371991Z"
    },
    "papermill": {
     "duration": 0.018846,
     "end_time": "2022-12-24T13:11:13.374683",
     "exception": false,
     "start_time": "2022-12-24T13:11:13.355837",
     "status": "completed"
    },
    "tags": []
   },
   "outputs": [],
   "source": [
    "coursera=coursera.drop(\"Unnamed: 0\",axis=1)"
   ]
  },
  {
   "cell_type": "markdown",
   "id": "bfa10594",
   "metadata": {
    "papermill": {
     "duration": 0.010544,
     "end_time": "2022-12-24T13:11:13.396040",
     "exception": false,
     "start_time": "2022-12-24T13:11:13.385496",
     "status": "completed"
    },
    "tags": []
   },
   "source": [
    "So, 1 numarical object only. But, we can turn some others to numarical too."
   ]
  },
  {
   "cell_type": "code",
   "execution_count": 7,
   "id": "c12cc55a",
   "metadata": {
    "execution": {
     "iopub.execute_input": "2022-12-24T13:11:13.418919Z",
     "iopub.status.busy": "2022-12-24T13:11:13.418550Z",
     "iopub.status.idle": "2022-12-24T13:11:13.435459Z",
     "shell.execute_reply": "2022-12-24T13:11:13.434523Z"
    },
    "papermill": {
     "duration": 0.03028,
     "end_time": "2022-12-24T13:11:13.437028",
     "exception": false,
     "start_time": "2022-12-24T13:11:13.406748",
     "status": "completed"
    },
    "tags": []
   },
   "outputs": [
    {
     "data": {
      "text/html": [
       "<div>\n",
       "<style scoped>\n",
       "    .dataframe tbody tr th:only-of-type {\n",
       "        vertical-align: middle;\n",
       "    }\n",
       "\n",
       "    .dataframe tbody tr th {\n",
       "        vertical-align: top;\n",
       "    }\n",
       "\n",
       "    .dataframe thead th {\n",
       "        text-align: right;\n",
       "    }\n",
       "</style>\n",
       "<table border=\"1\" class=\"dataframe\">\n",
       "  <thead>\n",
       "    <tr style=\"text-align: right;\">\n",
       "      <th></th>\n",
       "      <th>course_title</th>\n",
       "      <th>course_organization</th>\n",
       "      <th>Certficate type</th>\n",
       "      <th>course_rating</th>\n",
       "      <th>course_difficulty</th>\n",
       "      <th>course_students_enrolled</th>\n",
       "    </tr>\n",
       "  </thead>\n",
       "  <tbody>\n",
       "    <tr>\n",
       "      <th>0</th>\n",
       "      <td>(ISC)² Systems Security Certified Practitioner...</td>\n",
       "      <td>(ISC)²</td>\n",
       "      <td>SPECIALIZATION</td>\n",
       "      <td>4.7</td>\n",
       "      <td>Beginner</td>\n",
       "      <td>5.3k</td>\n",
       "    </tr>\n",
       "    <tr>\n",
       "      <th>1</th>\n",
       "      <td>A Crash Course in Causality:  Inferring Causal...</td>\n",
       "      <td>University of Pennsylvania</td>\n",
       "      <td>COURSE</td>\n",
       "      <td>4.7</td>\n",
       "      <td>Intermediate</td>\n",
       "      <td>17k</td>\n",
       "    </tr>\n",
       "    <tr>\n",
       "      <th>2</th>\n",
       "      <td>A Crash Course in Data Science</td>\n",
       "      <td>Johns Hopkins University</td>\n",
       "      <td>COURSE</td>\n",
       "      <td>4.5</td>\n",
       "      <td>Mixed</td>\n",
       "      <td>130k</td>\n",
       "    </tr>\n",
       "    <tr>\n",
       "      <th>3</th>\n",
       "      <td>A Law Student's Toolkit</td>\n",
       "      <td>Yale University</td>\n",
       "      <td>COURSE</td>\n",
       "      <td>4.7</td>\n",
       "      <td>Mixed</td>\n",
       "      <td>91k</td>\n",
       "    </tr>\n",
       "    <tr>\n",
       "      <th>4</th>\n",
       "      <td>A Life of Happiness and Fulfillment</td>\n",
       "      <td>Indian School of Business</td>\n",
       "      <td>COURSE</td>\n",
       "      <td>4.8</td>\n",
       "      <td>Mixed</td>\n",
       "      <td>320k</td>\n",
       "    </tr>\n",
       "    <tr>\n",
       "      <th>...</th>\n",
       "      <td>...</td>\n",
       "      <td>...</td>\n",
       "      <td>...</td>\n",
       "      <td>...</td>\n",
       "      <td>...</td>\n",
       "      <td>...</td>\n",
       "    </tr>\n",
       "    <tr>\n",
       "      <th>886</th>\n",
       "      <td>Программирование на Python</td>\n",
       "      <td>Mail.Ru Group</td>\n",
       "      <td>SPECIALIZATION</td>\n",
       "      <td>4.5</td>\n",
       "      <td>Intermediate</td>\n",
       "      <td>52k</td>\n",
       "    </tr>\n",
       "    <tr>\n",
       "      <th>887</th>\n",
       "      <td>Психолингвистика (Psycholinguistics)</td>\n",
       "      <td>Saint Petersburg State University</td>\n",
       "      <td>COURSE</td>\n",
       "      <td>4.8</td>\n",
       "      <td>Mixed</td>\n",
       "      <td>21k</td>\n",
       "    </tr>\n",
       "    <tr>\n",
       "      <th>888</th>\n",
       "      <td>Разработка интерфейсов: вёрстка и JavaScript</td>\n",
       "      <td>E-Learning Development Fund</td>\n",
       "      <td>SPECIALIZATION</td>\n",
       "      <td>4.5</td>\n",
       "      <td>Intermediate</td>\n",
       "      <td>30k</td>\n",
       "    </tr>\n",
       "    <tr>\n",
       "      <th>889</th>\n",
       "      <td>Русский как иностранный</td>\n",
       "      <td>Saint Petersburg State University</td>\n",
       "      <td>SPECIALIZATION</td>\n",
       "      <td>4.6</td>\n",
       "      <td>Intermediate</td>\n",
       "      <td>9.8k</td>\n",
       "    </tr>\n",
       "    <tr>\n",
       "      <th>890</th>\n",
       "      <td>Финансовые инструменты для частного инвестора</td>\n",
       "      <td>National Research University Higher School of ...</td>\n",
       "      <td>SPECIALIZATION</td>\n",
       "      <td>4.7</td>\n",
       "      <td>Beginner</td>\n",
       "      <td>38k</td>\n",
       "    </tr>\n",
       "  </tbody>\n",
       "</table>\n",
       "<p>891 rows × 6 columns</p>\n",
       "</div>"
      ],
      "text/plain": [
       "                                          course_title  \\\n",
       "0    (ISC)² Systems Security Certified Practitioner...   \n",
       "1    A Crash Course in Causality:  Inferring Causal...   \n",
       "2                       A Crash Course in Data Science   \n",
       "3                              A Law Student's Toolkit   \n",
       "4                  A Life of Happiness and Fulfillment   \n",
       "..                                                 ...   \n",
       "886                         Программирование на Python   \n",
       "887               Психолингвистика (Psycholinguistics)   \n",
       "888       Разработка интерфейсов: вёрстка и JavaScript   \n",
       "889                            Русский как иностранный   \n",
       "890      Финансовые инструменты для частного инвестора   \n",
       "\n",
       "                                   course_organization Certficate type  \\\n",
       "0                                               (ISC)²  SPECIALIZATION   \n",
       "1                           University of Pennsylvania          COURSE   \n",
       "2                             Johns Hopkins University          COURSE   \n",
       "3                                      Yale University          COURSE   \n",
       "4                            Indian School of Business          COURSE   \n",
       "..                                                 ...             ...   \n",
       "886                                      Mail.Ru Group  SPECIALIZATION   \n",
       "887                  Saint Petersburg State University          COURSE   \n",
       "888                        E-Learning Development Fund  SPECIALIZATION   \n",
       "889                  Saint Petersburg State University  SPECIALIZATION   \n",
       "890  National Research University Higher School of ...  SPECIALIZATION   \n",
       "\n",
       "     course_rating course_difficulty course_students_enrolled  \n",
       "0              4.7          Beginner                     5.3k  \n",
       "1              4.7      Intermediate                      17k  \n",
       "2              4.5             Mixed                     130k  \n",
       "3              4.7             Mixed                      91k  \n",
       "4              4.8             Mixed                     320k  \n",
       "..             ...               ...                      ...  \n",
       "886            4.5      Intermediate                      52k  \n",
       "887            4.8             Mixed                      21k  \n",
       "888            4.5      Intermediate                      30k  \n",
       "889            4.6      Intermediate                     9.8k  \n",
       "890            4.7          Beginner                      38k  \n",
       "\n",
       "[891 rows x 6 columns]"
      ]
     },
     "execution_count": 7,
     "metadata": {},
     "output_type": "execute_result"
    }
   ],
   "source": [
    "coursera.rename(columns = {'course_Certificate_type':'Certficate type'}, inplace = True)\n",
    "\n",
    "coursera"
   ]
  },
  {
   "cell_type": "markdown",
   "id": "60ecd05e",
   "metadata": {
    "papermill": {
     "duration": 0.011553,
     "end_time": "2022-12-24T13:11:13.460043",
     "exception": false,
     "start_time": "2022-12-24T13:11:13.448490",
     "status": "completed"
    },
    "tags": []
   },
   "source": [
    "<div style=\"padding:20px;color:white;margin:0;font-size:220%;text-align:center;display:fill;border-radius:5px;background-color:#282f85;overflow:hidden;font-weight:500\">Data Exploration</div>"
   ]
  },
  {
   "cell_type": "markdown",
   "id": "cc04c655",
   "metadata": {
    "papermill": {
     "duration": 0.010966,
     "end_time": "2022-12-24T13:11:13.482888",
     "exception": false,
     "start_time": "2022-12-24T13:11:13.471922",
     "status": "completed"
    },
    "tags": []
   },
   "source": [
    "# 📉 5. Data Exploration\n",
    " "
   ]
  },
  {
   "cell_type": "markdown",
   "id": "e989f8db",
   "metadata": {
    "papermill": {
     "duration": 0.010855,
     "end_time": "2022-12-24T13:11:13.504736",
     "exception": false,
     "start_time": "2022-12-24T13:11:13.493881",
     "status": "completed"
    },
    "tags": []
   },
   "source": [
    "# Creating a copy of the dataset"
   ]
  },
  {
   "cell_type": "markdown",
   "id": "5eddf5c8",
   "metadata": {
    "papermill": {
     "duration": 0.011975,
     "end_time": "2022-12-24T13:11:13.527800",
     "exception": false,
     "start_time": "2022-12-24T13:11:13.515825",
     "status": "completed"
    },
    "tags": []
   },
   "source": [
    "Extracting numerical values in column course student enrolled with removing k : using it futher \n"
   ]
  },
  {
   "cell_type": "code",
   "execution_count": 8,
   "id": "a17311c9",
   "metadata": {
    "execution": {
     "iopub.execute_input": "2022-12-24T13:11:13.552732Z",
     "iopub.status.busy": "2022-12-24T13:11:13.552415Z",
     "iopub.status.idle": "2022-12-24T13:11:13.556897Z",
     "shell.execute_reply": "2022-12-24T13:11:13.555992Z"
    },
    "papermill": {
     "duration": 0.019124,
     "end_time": "2022-12-24T13:11:13.558666",
     "exception": false,
     "start_time": "2022-12-24T13:11:13.539542",
     "status": "completed"
    },
    "tags": []
   },
   "outputs": [],
   "source": [
    "coursera_new=coursera.copy()"
   ]
  },
  {
   "cell_type": "code",
   "execution_count": 9,
   "id": "0af5c01c",
   "metadata": {
    "execution": {
     "iopub.execute_input": "2022-12-24T13:11:13.583497Z",
     "iopub.status.busy": "2022-12-24T13:11:13.583265Z",
     "iopub.status.idle": "2022-12-24T13:11:13.586749Z",
     "shell.execute_reply": "2022-12-24T13:11:13.586217Z"
    },
    "papermill": {
     "duration": 0.017768,
     "end_time": "2022-12-24T13:11:13.588260",
     "exception": false,
     "start_time": "2022-12-24T13:11:13.570492",
     "status": "completed"
    },
    "tags": []
   },
   "outputs": [],
   "source": [
    "def course_students_enrolled_modifier(x):\n",
    "    return x[:-2]"
   ]
  },
  {
   "cell_type": "code",
   "execution_count": 10,
   "id": "eb205987",
   "metadata": {
    "execution": {
     "iopub.execute_input": "2022-12-24T13:11:13.612292Z",
     "iopub.status.busy": "2022-12-24T13:11:13.612079Z",
     "iopub.status.idle": "2022-12-24T13:11:13.642041Z",
     "shell.execute_reply": "2022-12-24T13:11:13.641119Z"
    },
    "papermill": {
     "duration": 0.044061,
     "end_time": "2022-12-24T13:11:13.643965",
     "exception": false,
     "start_time": "2022-12-24T13:11:13.599904",
     "status": "completed"
    },
    "tags": []
   },
   "outputs": [
    {
     "data": {
      "text/html": [
       "<div>\n",
       "<style scoped>\n",
       "    .dataframe tbody tr th:only-of-type {\n",
       "        vertical-align: middle;\n",
       "    }\n",
       "\n",
       "    .dataframe tbody tr th {\n",
       "        vertical-align: top;\n",
       "    }\n",
       "\n",
       "    .dataframe thead th {\n",
       "        text-align: right;\n",
       "    }\n",
       "</style>\n",
       "<table border=\"1\" class=\"dataframe\">\n",
       "  <thead>\n",
       "    <tr style=\"text-align: right;\">\n",
       "      <th></th>\n",
       "      <th>course_title</th>\n",
       "      <th>course_organization</th>\n",
       "      <th>Certficate type</th>\n",
       "      <th>course_rating</th>\n",
       "      <th>course_difficulty</th>\n",
       "      <th>course_students_enrolled_modified</th>\n",
       "    </tr>\n",
       "  </thead>\n",
       "  <tbody>\n",
       "    <tr>\n",
       "      <th>0</th>\n",
       "      <td>(ISC)² Systems Security Certified Practitioner...</td>\n",
       "      <td>(ISC)²</td>\n",
       "      <td>SPECIALIZATION</td>\n",
       "      <td>4.7</td>\n",
       "      <td>Beginner</td>\n",
       "      <td>5.0</td>\n",
       "    </tr>\n",
       "    <tr>\n",
       "      <th>1</th>\n",
       "      <td>A Crash Course in Causality:  Inferring Causal...</td>\n",
       "      <td>University of Pennsylvania</td>\n",
       "      <td>COURSE</td>\n",
       "      <td>4.7</td>\n",
       "      <td>Intermediate</td>\n",
       "      <td>1.0</td>\n",
       "    </tr>\n",
       "    <tr>\n",
       "      <th>2</th>\n",
       "      <td>A Crash Course in Data Science</td>\n",
       "      <td>Johns Hopkins University</td>\n",
       "      <td>COURSE</td>\n",
       "      <td>4.5</td>\n",
       "      <td>Mixed</td>\n",
       "      <td>13.0</td>\n",
       "    </tr>\n",
       "    <tr>\n",
       "      <th>3</th>\n",
       "      <td>A Law Student's Toolkit</td>\n",
       "      <td>Yale University</td>\n",
       "      <td>COURSE</td>\n",
       "      <td>4.7</td>\n",
       "      <td>Mixed</td>\n",
       "      <td>9.0</td>\n",
       "    </tr>\n",
       "    <tr>\n",
       "      <th>4</th>\n",
       "      <td>A Life of Happiness and Fulfillment</td>\n",
       "      <td>Indian School of Business</td>\n",
       "      <td>COURSE</td>\n",
       "      <td>4.8</td>\n",
       "      <td>Mixed</td>\n",
       "      <td>32.0</td>\n",
       "    </tr>\n",
       "    <tr>\n",
       "      <th>...</th>\n",
       "      <td>...</td>\n",
       "      <td>...</td>\n",
       "      <td>...</td>\n",
       "      <td>...</td>\n",
       "      <td>...</td>\n",
       "      <td>...</td>\n",
       "    </tr>\n",
       "    <tr>\n",
       "      <th>886</th>\n",
       "      <td>Программирование на Python</td>\n",
       "      <td>Mail.Ru Group</td>\n",
       "      <td>SPECIALIZATION</td>\n",
       "      <td>4.5</td>\n",
       "      <td>Intermediate</td>\n",
       "      <td>5.0</td>\n",
       "    </tr>\n",
       "    <tr>\n",
       "      <th>887</th>\n",
       "      <td>Психолингвистика (Psycholinguistics)</td>\n",
       "      <td>Saint Petersburg State University</td>\n",
       "      <td>COURSE</td>\n",
       "      <td>4.8</td>\n",
       "      <td>Mixed</td>\n",
       "      <td>2.0</td>\n",
       "    </tr>\n",
       "    <tr>\n",
       "      <th>888</th>\n",
       "      <td>Разработка интерфейсов: вёрстка и JavaScript</td>\n",
       "      <td>E-Learning Development Fund</td>\n",
       "      <td>SPECIALIZATION</td>\n",
       "      <td>4.5</td>\n",
       "      <td>Intermediate</td>\n",
       "      <td>3.0</td>\n",
       "    </tr>\n",
       "    <tr>\n",
       "      <th>889</th>\n",
       "      <td>Русский как иностранный</td>\n",
       "      <td>Saint Petersburg State University</td>\n",
       "      <td>SPECIALIZATION</td>\n",
       "      <td>4.6</td>\n",
       "      <td>Intermediate</td>\n",
       "      <td>9.0</td>\n",
       "    </tr>\n",
       "    <tr>\n",
       "      <th>890</th>\n",
       "      <td>Финансовые инструменты для частного инвестора</td>\n",
       "      <td>National Research University Higher School of ...</td>\n",
       "      <td>SPECIALIZATION</td>\n",
       "      <td>4.7</td>\n",
       "      <td>Beginner</td>\n",
       "      <td>3.0</td>\n",
       "    </tr>\n",
       "  </tbody>\n",
       "</table>\n",
       "<p>891 rows × 6 columns</p>\n",
       "</div>"
      ],
      "text/plain": [
       "                                          course_title  \\\n",
       "0    (ISC)² Systems Security Certified Practitioner...   \n",
       "1    A Crash Course in Causality:  Inferring Causal...   \n",
       "2                       A Crash Course in Data Science   \n",
       "3                              A Law Student's Toolkit   \n",
       "4                  A Life of Happiness and Fulfillment   \n",
       "..                                                 ...   \n",
       "886                         Программирование на Python   \n",
       "887               Психолингвистика (Psycholinguistics)   \n",
       "888       Разработка интерфейсов: вёрстка и JavaScript   \n",
       "889                            Русский как иностранный   \n",
       "890      Финансовые инструменты для частного инвестора   \n",
       "\n",
       "                                   course_organization Certficate type  \\\n",
       "0                                               (ISC)²  SPECIALIZATION   \n",
       "1                           University of Pennsylvania          COURSE   \n",
       "2                             Johns Hopkins University          COURSE   \n",
       "3                                      Yale University          COURSE   \n",
       "4                            Indian School of Business          COURSE   \n",
       "..                                                 ...             ...   \n",
       "886                                      Mail.Ru Group  SPECIALIZATION   \n",
       "887                  Saint Petersburg State University          COURSE   \n",
       "888                        E-Learning Development Fund  SPECIALIZATION   \n",
       "889                  Saint Petersburg State University  SPECIALIZATION   \n",
       "890  National Research University Higher School of ...  SPECIALIZATION   \n",
       "\n",
       "     course_rating course_difficulty  course_students_enrolled_modified  \n",
       "0              4.7          Beginner                                5.0  \n",
       "1              4.7      Intermediate                                1.0  \n",
       "2              4.5             Mixed                               13.0  \n",
       "3              4.7             Mixed                                9.0  \n",
       "4              4.8             Mixed                               32.0  \n",
       "..             ...               ...                                ...  \n",
       "886            4.5      Intermediate                                5.0  \n",
       "887            4.8             Mixed                                2.0  \n",
       "888            4.5      Intermediate                                3.0  \n",
       "889            4.6      Intermediate                                9.0  \n",
       "890            4.7          Beginner                                3.0  \n",
       "\n",
       "[891 rows x 6 columns]"
      ]
     },
     "execution_count": 10,
     "metadata": {},
     "output_type": "execute_result"
    }
   ],
   "source": [
    "coursera_new['course_students_enrolled_modified']=coursera_new['course_students_enrolled'].apply(course_students_enrolled_modifier)\n",
    "coursera_new['course_students_enrolled_modified']=coursera_new['course_students_enrolled_modified'].apply(pd.to_numeric)\n",
    "coursera_new =coursera_new.drop(['course_students_enrolled'],axis=1)\n",
    "coursera_new"
   ]
  },
  {
   "cell_type": "markdown",
   "id": "ff0964b9",
   "metadata": {
    "papermill": {
     "duration": 0.01142,
     "end_time": "2022-12-24T13:11:13.667423",
     "exception": false,
     "start_time": "2022-12-24T13:11:13.656003",
     "status": "completed"
    },
    "tags": []
   },
   "source": [
    "# **Convert course_difficulty_modifier to numeric**"
   ]
  },
  {
   "cell_type": "code",
   "execution_count": 11,
   "id": "39b33216",
   "metadata": {
    "execution": {
     "iopub.execute_input": "2022-12-24T13:11:13.691491Z",
     "iopub.status.busy": "2022-12-24T13:11:13.691252Z",
     "iopub.status.idle": "2022-12-24T13:11:13.696125Z",
     "shell.execute_reply": "2022-12-24T13:11:13.695356Z"
    },
    "papermill": {
     "duration": 0.018835,
     "end_time": "2022-12-24T13:11:13.697704",
     "exception": false,
     "start_time": "2022-12-24T13:11:13.678869",
     "status": "completed"
    },
    "tags": []
   },
   "outputs": [],
   "source": [
    "def course_difficulty_modifier(x):\n",
    "    if x==\"Beginner\":\n",
    "        return \"0\"\n",
    "    elif x==\"Intermediate\":\n",
    "        return \"1\"\n",
    "    elif x==\"Mixed\":\n",
    "        return \"0.5\"\n",
    "    elif x==\"Advanced\":\n",
    "        return \"2\"\n",
    "    else:\n",
    "        return \"0\" "
   ]
  },
  {
   "cell_type": "code",
   "execution_count": 12,
   "id": "56371cc5",
   "metadata": {
    "execution": {
     "iopub.execute_input": "2022-12-24T13:11:13.721528Z",
     "iopub.status.busy": "2022-12-24T13:11:13.721305Z",
     "iopub.status.idle": "2022-12-24T13:11:13.749799Z",
     "shell.execute_reply": "2022-12-24T13:11:13.748921Z"
    },
    "papermill": {
     "duration": 0.04221,
     "end_time": "2022-12-24T13:11:13.751391",
     "exception": false,
     "start_time": "2022-12-24T13:11:13.709181",
     "status": "completed"
    },
    "tags": []
   },
   "outputs": [
    {
     "data": {
      "text/html": [
       "<div>\n",
       "<style scoped>\n",
       "    .dataframe tbody tr th:only-of-type {\n",
       "        vertical-align: middle;\n",
       "    }\n",
       "\n",
       "    .dataframe tbody tr th {\n",
       "        vertical-align: top;\n",
       "    }\n",
       "\n",
       "    .dataframe thead th {\n",
       "        text-align: right;\n",
       "    }\n",
       "</style>\n",
       "<table border=\"1\" class=\"dataframe\">\n",
       "  <thead>\n",
       "    <tr style=\"text-align: right;\">\n",
       "      <th></th>\n",
       "      <th>course_title</th>\n",
       "      <th>course_organization</th>\n",
       "      <th>Certficate type</th>\n",
       "      <th>course_rating</th>\n",
       "      <th>course_students_enrolled_modified</th>\n",
       "      <th>course_difficulty_modified</th>\n",
       "    </tr>\n",
       "  </thead>\n",
       "  <tbody>\n",
       "    <tr>\n",
       "      <th>0</th>\n",
       "      <td>(ISC)² Systems Security Certified Practitioner...</td>\n",
       "      <td>(ISC)²</td>\n",
       "      <td>SPECIALIZATION</td>\n",
       "      <td>4.7</td>\n",
       "      <td>5.0</td>\n",
       "      <td>0.0</td>\n",
       "    </tr>\n",
       "    <tr>\n",
       "      <th>1</th>\n",
       "      <td>A Crash Course in Causality:  Inferring Causal...</td>\n",
       "      <td>University of Pennsylvania</td>\n",
       "      <td>COURSE</td>\n",
       "      <td>4.7</td>\n",
       "      <td>1.0</td>\n",
       "      <td>1.0</td>\n",
       "    </tr>\n",
       "    <tr>\n",
       "      <th>2</th>\n",
       "      <td>A Crash Course in Data Science</td>\n",
       "      <td>Johns Hopkins University</td>\n",
       "      <td>COURSE</td>\n",
       "      <td>4.5</td>\n",
       "      <td>13.0</td>\n",
       "      <td>0.5</td>\n",
       "    </tr>\n",
       "    <tr>\n",
       "      <th>3</th>\n",
       "      <td>A Law Student's Toolkit</td>\n",
       "      <td>Yale University</td>\n",
       "      <td>COURSE</td>\n",
       "      <td>4.7</td>\n",
       "      <td>9.0</td>\n",
       "      <td>0.5</td>\n",
       "    </tr>\n",
       "    <tr>\n",
       "      <th>4</th>\n",
       "      <td>A Life of Happiness and Fulfillment</td>\n",
       "      <td>Indian School of Business</td>\n",
       "      <td>COURSE</td>\n",
       "      <td>4.8</td>\n",
       "      <td>32.0</td>\n",
       "      <td>0.5</td>\n",
       "    </tr>\n",
       "    <tr>\n",
       "      <th>...</th>\n",
       "      <td>...</td>\n",
       "      <td>...</td>\n",
       "      <td>...</td>\n",
       "      <td>...</td>\n",
       "      <td>...</td>\n",
       "      <td>...</td>\n",
       "    </tr>\n",
       "    <tr>\n",
       "      <th>886</th>\n",
       "      <td>Программирование на Python</td>\n",
       "      <td>Mail.Ru Group</td>\n",
       "      <td>SPECIALIZATION</td>\n",
       "      <td>4.5</td>\n",
       "      <td>5.0</td>\n",
       "      <td>1.0</td>\n",
       "    </tr>\n",
       "    <tr>\n",
       "      <th>887</th>\n",
       "      <td>Психолингвистика (Psycholinguistics)</td>\n",
       "      <td>Saint Petersburg State University</td>\n",
       "      <td>COURSE</td>\n",
       "      <td>4.8</td>\n",
       "      <td>2.0</td>\n",
       "      <td>0.5</td>\n",
       "    </tr>\n",
       "    <tr>\n",
       "      <th>888</th>\n",
       "      <td>Разработка интерфейсов: вёрстка и JavaScript</td>\n",
       "      <td>E-Learning Development Fund</td>\n",
       "      <td>SPECIALIZATION</td>\n",
       "      <td>4.5</td>\n",
       "      <td>3.0</td>\n",
       "      <td>1.0</td>\n",
       "    </tr>\n",
       "    <tr>\n",
       "      <th>889</th>\n",
       "      <td>Русский как иностранный</td>\n",
       "      <td>Saint Petersburg State University</td>\n",
       "      <td>SPECIALIZATION</td>\n",
       "      <td>4.6</td>\n",
       "      <td>9.0</td>\n",
       "      <td>1.0</td>\n",
       "    </tr>\n",
       "    <tr>\n",
       "      <th>890</th>\n",
       "      <td>Финансовые инструменты для частного инвестора</td>\n",
       "      <td>National Research University Higher School of ...</td>\n",
       "      <td>SPECIALIZATION</td>\n",
       "      <td>4.7</td>\n",
       "      <td>3.0</td>\n",
       "      <td>0.0</td>\n",
       "    </tr>\n",
       "  </tbody>\n",
       "</table>\n",
       "<p>891 rows × 6 columns</p>\n",
       "</div>"
      ],
      "text/plain": [
       "                                          course_title  \\\n",
       "0    (ISC)² Systems Security Certified Practitioner...   \n",
       "1    A Crash Course in Causality:  Inferring Causal...   \n",
       "2                       A Crash Course in Data Science   \n",
       "3                              A Law Student's Toolkit   \n",
       "4                  A Life of Happiness and Fulfillment   \n",
       "..                                                 ...   \n",
       "886                         Программирование на Python   \n",
       "887               Психолингвистика (Psycholinguistics)   \n",
       "888       Разработка интерфейсов: вёрстка и JavaScript   \n",
       "889                            Русский как иностранный   \n",
       "890      Финансовые инструменты для частного инвестора   \n",
       "\n",
       "                                   course_organization Certficate type  \\\n",
       "0                                               (ISC)²  SPECIALIZATION   \n",
       "1                           University of Pennsylvania          COURSE   \n",
       "2                             Johns Hopkins University          COURSE   \n",
       "3                                      Yale University          COURSE   \n",
       "4                            Indian School of Business          COURSE   \n",
       "..                                                 ...             ...   \n",
       "886                                      Mail.Ru Group  SPECIALIZATION   \n",
       "887                  Saint Petersburg State University          COURSE   \n",
       "888                        E-Learning Development Fund  SPECIALIZATION   \n",
       "889                  Saint Petersburg State University  SPECIALIZATION   \n",
       "890  National Research University Higher School of ...  SPECIALIZATION   \n",
       "\n",
       "     course_rating  course_students_enrolled_modified  \\\n",
       "0              4.7                                5.0   \n",
       "1              4.7                                1.0   \n",
       "2              4.5                               13.0   \n",
       "3              4.7                                9.0   \n",
       "4              4.8                               32.0   \n",
       "..             ...                                ...   \n",
       "886            4.5                                5.0   \n",
       "887            4.8                                2.0   \n",
       "888            4.5                                3.0   \n",
       "889            4.6                                9.0   \n",
       "890            4.7                                3.0   \n",
       "\n",
       "     course_difficulty_modified  \n",
       "0                           0.0  \n",
       "1                           1.0  \n",
       "2                           0.5  \n",
       "3                           0.5  \n",
       "4                           0.5  \n",
       "..                          ...  \n",
       "886                         1.0  \n",
       "887                         0.5  \n",
       "888                         1.0  \n",
       "889                         1.0  \n",
       "890                         0.0  \n",
       "\n",
       "[891 rows x 6 columns]"
      ]
     },
     "execution_count": 12,
     "metadata": {},
     "output_type": "execute_result"
    }
   ],
   "source": [
    "coursera_new['course_difficulty_modified']=coursera_new['course_difficulty'].apply(course_difficulty_modifier)\n",
    "coursera_new['course_difficulty_modified']=coursera_new['course_difficulty_modified'].apply(pd.to_numeric)\n",
    "coursera_new =coursera_new.drop(['course_difficulty'],axis=1)\n",
    "coursera_new"
   ]
  },
  {
   "cell_type": "markdown",
   "id": "511a8197",
   "metadata": {
    "papermill": {
     "duration": 0.011286,
     "end_time": "2022-12-24T13:11:13.774417",
     "exception": false,
     "start_time": "2022-12-24T13:11:13.763131",
     "status": "completed"
    },
    "tags": []
   },
   "source": [
    "# **Using Aggregate Function**"
   ]
  },
  {
   "cell_type": "markdown",
   "id": "ad306631",
   "metadata": {
    "execution": {
     "iopub.execute_input": "2022-12-24T12:44:05.997955Z",
     "iopub.status.busy": "2022-12-24T12:44:05.997546Z",
     "iopub.status.idle": "2022-12-24T12:44:06.007426Z",
     "shell.execute_reply": "2022-12-24T12:44:06.005304Z",
     "shell.execute_reply.started": "2022-12-24T12:44:05.997925Z"
    },
    "papermill": {
     "duration": 0.011332,
     "end_time": "2022-12-24T13:11:13.797143",
     "exception": false,
     "start_time": "2022-12-24T13:11:13.785811",
     "status": "completed"
    },
    "tags": []
   },
   "source": [
    " calculating the sum, mean, median, min, and max of the course_rating column\n"
   ]
  },
  {
   "cell_type": "markdown",
   "id": "99d1fb27",
   "metadata": {
    "papermill": {
     "duration": 0.011197,
     "end_time": "2022-12-24T13:11:13.819763",
     "exception": false,
     "start_time": "2022-12-24T13:11:13.808566",
     "status": "completed"
    },
    "tags": []
   },
   "source": []
  },
  {
   "cell_type": "code",
   "execution_count": 13,
   "id": "b9cf1067",
   "metadata": {
    "execution": {
     "iopub.execute_input": "2022-12-24T13:11:13.844570Z",
     "iopub.status.busy": "2022-12-24T13:11:13.843799Z",
     "iopub.status.idle": "2022-12-24T13:11:13.849181Z",
     "shell.execute_reply": "2022-12-24T13:11:13.848620Z"
    },
    "papermill": {
     "duration": 0.019679,
     "end_time": "2022-12-24T13:11:13.850852",
     "exception": false,
     "start_time": "2022-12-24T13:11:13.831173",
     "status": "completed"
    },
    "tags": []
   },
   "outputs": [],
   "source": [
    "rating_sum = coursera['course_rating'].sum()\n",
    "rating_mean = coursera['course_rating'].mean()\n",
    "rating_median = coursera['course_rating'].median()\n",
    "rating_min = coursera['course_rating'].min()\n",
    "rating_max = coursera['course_rating'].max()"
   ]
  },
  {
   "cell_type": "markdown",
   "id": "35f14247",
   "metadata": {
    "papermill": {
     "duration": 0.011488,
     "end_time": "2022-12-24T13:11:13.874797",
     "exception": false,
     "start_time": "2022-12-24T13:11:13.863309",
     "status": "completed"
    },
    "tags": []
   },
   "source": [
    "Printing Result "
   ]
  },
  {
   "cell_type": "markdown",
   "id": "426ae52c",
   "metadata": {
    "papermill": {
     "duration": 0.011283,
     "end_time": "2022-12-24T13:11:13.897650",
     "exception": false,
     "start_time": "2022-12-24T13:11:13.886367",
     "status": "completed"
    },
    "tags": []
   },
   "source": []
  },
  {
   "cell_type": "code",
   "execution_count": 14,
   "id": "1dca6d48",
   "metadata": {
    "execution": {
     "iopub.execute_input": "2022-12-24T13:11:13.922414Z",
     "iopub.status.busy": "2022-12-24T13:11:13.921851Z",
     "iopub.status.idle": "2022-12-24T13:11:13.926465Z",
     "shell.execute_reply": "2022-12-24T13:11:13.925413Z"
    },
    "papermill": {
     "duration": 0.01894,
     "end_time": "2022-12-24T13:11:13.928039",
     "exception": false,
     "start_time": "2022-12-24T13:11:13.909099",
     "status": "completed"
    },
    "tags": []
   },
   "outputs": [
    {
     "name": "stdout",
     "output_type": "stream",
     "text": [
      "Sum: 4167.5, Mean: 4.677328843995511, Median: 4.7, Min: 3.3, Max: 5.0\n"
     ]
    }
   ],
   "source": [
    "print(f'Sum: {rating_sum}, Mean: {rating_mean}, Median: {rating_median}, Min: {rating_min}, Max: {rating_max}')"
   ]
  },
  {
   "cell_type": "markdown",
   "id": "d03069ef",
   "metadata": {
    "papermill": {
     "duration": 0.011448,
     "end_time": "2022-12-24T13:11:13.951378",
     "exception": false,
     "start_time": "2022-12-24T13:11:13.939930",
     "status": "completed"
    },
    "tags": []
   },
   "source": [
    "<div style=\"padding:20px;color:white;margin:0;font-size:220%;text-align:center;display:fill;border-radius:5px;background-color:#282f85;overflow:hidden;font-weight:500\">Correlation Annalysis</div>"
   ]
  },
  {
   "cell_type": "code",
   "execution_count": 15,
   "id": "56923ab0",
   "metadata": {
    "execution": {
     "iopub.execute_input": "2022-12-24T13:11:13.976462Z",
     "iopub.status.busy": "2022-12-24T13:11:13.975903Z",
     "iopub.status.idle": "2022-12-24T13:11:13.980975Z",
     "shell.execute_reply": "2022-12-24T13:11:13.980358Z"
    },
    "papermill": {
     "duration": 0.019341,
     "end_time": "2022-12-24T13:11:13.982477",
     "exception": false,
     "start_time": "2022-12-24T13:11:13.963136",
     "status": "completed"
    },
    "tags": []
   },
   "outputs": [],
   "source": [
    "coursera_numaric=coursera_new.select_dtypes(include=np.number)"
   ]
  },
  {
   "cell_type": "code",
   "execution_count": 16,
   "id": "c4f56792",
   "metadata": {
    "execution": {
     "iopub.execute_input": "2022-12-24T13:11:14.008316Z",
     "iopub.status.busy": "2022-12-24T13:11:14.007794Z",
     "iopub.status.idle": "2022-12-24T13:11:14.017844Z",
     "shell.execute_reply": "2022-12-24T13:11:14.017029Z"
    },
    "papermill": {
     "duration": 0.024574,
     "end_time": "2022-12-24T13:11:14.019465",
     "exception": false,
     "start_time": "2022-12-24T13:11:13.994891",
     "status": "completed"
    },
    "tags": []
   },
   "outputs": [
    {
     "data": {
      "text/html": [
       "<div>\n",
       "<style scoped>\n",
       "    .dataframe tbody tr th:only-of-type {\n",
       "        vertical-align: middle;\n",
       "    }\n",
       "\n",
       "    .dataframe tbody tr th {\n",
       "        vertical-align: top;\n",
       "    }\n",
       "\n",
       "    .dataframe thead th {\n",
       "        text-align: right;\n",
       "    }\n",
       "</style>\n",
       "<table border=\"1\" class=\"dataframe\">\n",
       "  <thead>\n",
       "    <tr style=\"text-align: right;\">\n",
       "      <th></th>\n",
       "      <th>course_rating</th>\n",
       "      <th>course_students_enrolled_modified</th>\n",
       "      <th>course_difficulty_modified</th>\n",
       "    </tr>\n",
       "  </thead>\n",
       "  <tbody>\n",
       "    <tr>\n",
       "      <th>course_rating</th>\n",
       "      <td>1.000000</td>\n",
       "      <td>0.015848</td>\n",
       "      <td>-0.089810</td>\n",
       "    </tr>\n",
       "    <tr>\n",
       "      <th>course_students_enrolled_modified</th>\n",
       "      <td>0.015848</td>\n",
       "      <td>1.000000</td>\n",
       "      <td>-0.011345</td>\n",
       "    </tr>\n",
       "    <tr>\n",
       "      <th>course_difficulty_modified</th>\n",
       "      <td>-0.089810</td>\n",
       "      <td>-0.011345</td>\n",
       "      <td>1.000000</td>\n",
       "    </tr>\n",
       "  </tbody>\n",
       "</table>\n",
       "</div>"
      ],
      "text/plain": [
       "                                   course_rating  \\\n",
       "course_rating                           1.000000   \n",
       "course_students_enrolled_modified       0.015848   \n",
       "course_difficulty_modified             -0.089810   \n",
       "\n",
       "                                   course_students_enrolled_modified  \\\n",
       "course_rating                                               0.015848   \n",
       "course_students_enrolled_modified                           1.000000   \n",
       "course_difficulty_modified                                 -0.011345   \n",
       "\n",
       "                                   course_difficulty_modified  \n",
       "course_rating                                       -0.089810  \n",
       "course_students_enrolled_modified                   -0.011345  \n",
       "course_difficulty_modified                           1.000000  "
      ]
     },
     "execution_count": 16,
     "metadata": {},
     "output_type": "execute_result"
    }
   ],
   "source": [
    "correlation = coursera_numaric.corr()\n",
    "correlation"
   ]
  },
  {
   "cell_type": "code",
   "execution_count": 17,
   "id": "5d231c01",
   "metadata": {
    "execution": {
     "iopub.execute_input": "2022-12-24T13:11:14.044698Z",
     "iopub.status.busy": "2022-12-24T13:11:14.044364Z",
     "iopub.status.idle": "2022-12-24T13:11:14.055809Z",
     "shell.execute_reply": "2022-12-24T13:11:14.055157Z"
    },
    "papermill": {
     "duration": 0.026004,
     "end_time": "2022-12-24T13:11:14.057473",
     "exception": false,
     "start_time": "2022-12-24T13:11:14.031469",
     "status": "completed"
    },
    "tags": []
   },
   "outputs": [],
   "source": [
    "coursera_new_2 = coursera_new.groupby(\"course_organization\")[[\"course_students_enrolled_modified\", 'course_rating']].agg({\"course_students_enrolled_modified\":'size',\"course_students_enrolled_modified\":'mean','course_rating':'mean'}).reset_index()\n"
   ]
  },
  {
   "cell_type": "code",
   "execution_count": 18,
   "id": "9a0ca6c5",
   "metadata": {
    "execution": {
     "iopub.execute_input": "2022-12-24T13:11:14.082799Z",
     "iopub.status.busy": "2022-12-24T13:11:14.082476Z",
     "iopub.status.idle": "2022-12-24T13:11:14.089433Z",
     "shell.execute_reply": "2022-12-24T13:11:14.088732Z"
    },
    "papermill": {
     "duration": 0.021573,
     "end_time": "2022-12-24T13:11:14.091122",
     "exception": false,
     "start_time": "2022-12-24T13:11:14.069549",
     "status": "completed"
    },
    "tags": []
   },
   "outputs": [],
   "source": [
    "coursera_new['overall_rating']=(coursera_new['course_students_enrolled_modified']/coursera_new['course_students_enrolled_modified'].max())*3+(coursera_new['course_rating']/coursera_new['course_rating'].max())*7\n",
    "coursera_new=coursera_new.sort_values(by='overall_rating',ascending=False)"
   ]
  },
  {
   "cell_type": "code",
   "execution_count": 19,
   "id": "419584cb",
   "metadata": {
    "execution": {
     "iopub.execute_input": "2022-12-24T13:11:14.117269Z",
     "iopub.status.busy": "2022-12-24T13:11:14.116968Z",
     "iopub.status.idle": "2022-12-24T13:11:14.125479Z",
     "shell.execute_reply": "2022-12-24T13:11:14.124704Z"
    },
    "papermill": {
     "duration": 0.023558,
     "end_time": "2022-12-24T13:11:14.127065",
     "exception": false,
     "start_time": "2022-12-24T13:11:14.103507",
     "status": "completed"
    },
    "tags": []
   },
   "outputs": [
    {
     "data": {
      "text/plain": [
       "count    881.000000\n",
       "mean       6.856354\n",
       "std        0.452615\n",
       "min        5.126024\n",
       "25%        6.616145\n",
       "50%        6.792289\n",
       "75%        6.986747\n",
       "max        9.466988\n",
       "Name: overall_rating, dtype: float64"
      ]
     },
     "execution_count": 19,
     "metadata": {},
     "output_type": "execute_result"
    }
   ],
   "source": [
    "coursera_new.overall_rating.describe().T"
   ]
  },
  {
   "cell_type": "markdown",
   "id": "3f01d5ea",
   "metadata": {
    "papermill": {
     "duration": 0.012016,
     "end_time": "2022-12-24T13:11:14.151831",
     "exception": false,
     "start_time": "2022-12-24T13:11:14.139815",
     "status": "completed"
    },
    "tags": []
   },
   "source": [
    "coursera_best is a new data frame that contains the best rated courses(rating > 8.5)"
   ]
  },
  {
   "cell_type": "code",
   "execution_count": 20,
   "id": "d5c60699",
   "metadata": {
    "execution": {
     "iopub.execute_input": "2022-12-24T13:11:14.177823Z",
     "iopub.status.busy": "2022-12-24T13:11:14.177472Z",
     "iopub.status.idle": "2022-12-24T13:11:14.192177Z",
     "shell.execute_reply": "2022-12-24T13:11:14.191367Z"
    },
    "papermill": {
     "duration": 0.029881,
     "end_time": "2022-12-24T13:11:14.193923",
     "exception": false,
     "start_time": "2022-12-24T13:11:14.164042",
     "status": "completed"
    },
    "tags": []
   },
   "outputs": [
    {
     "data": {
      "text/html": [
       "<div>\n",
       "<style scoped>\n",
       "    .dataframe tbody tr th:only-of-type {\n",
       "        vertical-align: middle;\n",
       "    }\n",
       "\n",
       "    .dataframe tbody tr th {\n",
       "        vertical-align: top;\n",
       "    }\n",
       "\n",
       "    .dataframe thead th {\n",
       "        text-align: right;\n",
       "    }\n",
       "</style>\n",
       "<table border=\"1\" class=\"dataframe\">\n",
       "  <thead>\n",
       "    <tr style=\"text-align: right;\">\n",
       "      <th></th>\n",
       "      <th>course_title</th>\n",
       "      <th>course_organization</th>\n",
       "      <th>Certficate type</th>\n",
       "      <th>course_rating</th>\n",
       "      <th>course_students_enrolled_modified</th>\n",
       "      <th>course_difficulty_modified</th>\n",
       "      <th>overall_rating</th>\n",
       "    </tr>\n",
       "  </thead>\n",
       "  <tbody>\n",
       "    <tr>\n",
       "      <th>261</th>\n",
       "      <td>English for Career Development</td>\n",
       "      <td>University of Pennsylvania</td>\n",
       "      <td>COURSE</td>\n",
       "      <td>4.8</td>\n",
       "      <td>76.0</td>\n",
       "      <td>0.5</td>\n",
       "      <td>9.466988</td>\n",
       "    </tr>\n",
       "    <tr>\n",
       "      <th>765</th>\n",
       "      <td>Successful Negotiation: Essential Strategies a...</td>\n",
       "      <td>University of Michigan</td>\n",
       "      <td>COURSE</td>\n",
       "      <td>4.8</td>\n",
       "      <td>75.0</td>\n",
       "      <td>0.5</td>\n",
       "      <td>9.430843</td>\n",
       "    </tr>\n",
       "    <tr>\n",
       "      <th>196</th>\n",
       "      <td>Data Science</td>\n",
       "      <td>Johns Hopkins University</td>\n",
       "      <td>SPECIALIZATION</td>\n",
       "      <td>4.5</td>\n",
       "      <td>83.0</td>\n",
       "      <td>0.0</td>\n",
       "      <td>9.300000</td>\n",
       "    </tr>\n",
       "    <tr>\n",
       "      <th>211</th>\n",
       "      <td>Deep Learning</td>\n",
       "      <td>deeplearning.ai</td>\n",
       "      <td>SPECIALIZATION</td>\n",
       "      <td>4.8</td>\n",
       "      <td>69.0</td>\n",
       "      <td>1.0</td>\n",
       "      <td>9.213976</td>\n",
       "    </tr>\n",
       "    <tr>\n",
       "      <th>626</th>\n",
       "      <td>Neural Networks and Deep Learning</td>\n",
       "      <td>deeplearning.ai</td>\n",
       "      <td>COURSE</td>\n",
       "      <td>4.9</td>\n",
       "      <td>63.0</td>\n",
       "      <td>1.0</td>\n",
       "      <td>9.137108</td>\n",
       "    </tr>\n",
       "    <tr>\n",
       "      <th>199</th>\n",
       "      <td>Data Science: Foundations using R</td>\n",
       "      <td>Johns Hopkins University</td>\n",
       "      <td>SPECIALIZATION</td>\n",
       "      <td>4.6</td>\n",
       "      <td>74.0</td>\n",
       "      <td>0.0</td>\n",
       "      <td>9.114699</td>\n",
       "    </tr>\n",
       "    <tr>\n",
       "      <th>129</th>\n",
       "      <td>Career Success</td>\n",
       "      <td>University of California, Irvine</td>\n",
       "      <td>SPECIALIZATION</td>\n",
       "      <td>4.4</td>\n",
       "      <td>79.0</td>\n",
       "      <td>0.0</td>\n",
       "      <td>9.015422</td>\n",
       "    </tr>\n",
       "    <tr>\n",
       "      <th>426</th>\n",
       "      <td>Improve Your English Communication Skills</td>\n",
       "      <td>Georgia Institute of Technology</td>\n",
       "      <td>SPECIALIZATION</td>\n",
       "      <td>4.7</td>\n",
       "      <td>61.0</td>\n",
       "      <td>0.0</td>\n",
       "      <td>8.784819</td>\n",
       "    </tr>\n",
       "    <tr>\n",
       "      <th>18</th>\n",
       "      <td>Academic English: Writing</td>\n",
       "      <td>University of California, Irvine</td>\n",
       "      <td>SPECIALIZATION</td>\n",
       "      <td>4.7</td>\n",
       "      <td>54.0</td>\n",
       "      <td>0.0</td>\n",
       "      <td>8.531807</td>\n",
       "    </tr>\n",
       "  </tbody>\n",
       "</table>\n",
       "</div>"
      ],
      "text/plain": [
       "                                          course_title  \\\n",
       "261                     English for Career Development   \n",
       "765  Successful Negotiation: Essential Strategies a...   \n",
       "196                                       Data Science   \n",
       "211                                      Deep Learning   \n",
       "626                  Neural Networks and Deep Learning   \n",
       "199                  Data Science: Foundations using R   \n",
       "129                                     Career Success   \n",
       "426          Improve Your English Communication Skills   \n",
       "18                           Academic English: Writing   \n",
       "\n",
       "                  course_organization Certficate type  course_rating  \\\n",
       "261        University of Pennsylvania          COURSE            4.8   \n",
       "765            University of Michigan          COURSE            4.8   \n",
       "196          Johns Hopkins University  SPECIALIZATION            4.5   \n",
       "211                   deeplearning.ai  SPECIALIZATION            4.8   \n",
       "626                   deeplearning.ai          COURSE            4.9   \n",
       "199          Johns Hopkins University  SPECIALIZATION            4.6   \n",
       "129  University of California, Irvine  SPECIALIZATION            4.4   \n",
       "426   Georgia Institute of Technology  SPECIALIZATION            4.7   \n",
       "18   University of California, Irvine  SPECIALIZATION            4.7   \n",
       "\n",
       "     course_students_enrolled_modified  course_difficulty_modified  \\\n",
       "261                               76.0                         0.5   \n",
       "765                               75.0                         0.5   \n",
       "196                               83.0                         0.0   \n",
       "211                               69.0                         1.0   \n",
       "626                               63.0                         1.0   \n",
       "199                               74.0                         0.0   \n",
       "129                               79.0                         0.0   \n",
       "426                               61.0                         0.0   \n",
       "18                                54.0                         0.0   \n",
       "\n",
       "     overall_rating  \n",
       "261        9.466988  \n",
       "765        9.430843  \n",
       "196        9.300000  \n",
       "211        9.213976  \n",
       "626        9.137108  \n",
       "199        9.114699  \n",
       "129        9.015422  \n",
       "426        8.784819  \n",
       "18         8.531807  "
      ]
     },
     "execution_count": 20,
     "metadata": {},
     "output_type": "execute_result"
    }
   ],
   "source": [
    "coursera_best=coursera_new[coursera_new['overall_rating']>=8.5]\n",
    "coursera_best"
   ]
  },
  {
   "cell_type": "markdown",
   "id": "c3b4b916",
   "metadata": {
    "papermill": {
     "duration": 0.012037,
     "end_time": "2022-12-24T13:11:14.218649",
     "exception": false,
     "start_time": "2022-12-24T13:11:14.206612",
     "status": "completed"
    },
    "tags": []
   },
   "source": [
    "This will create a scatter plot showing the relationship between the course_rating and overall_rating features"
   ]
  },
  {
   "cell_type": "code",
   "execution_count": 21,
   "id": "8aca72d0",
   "metadata": {
    "execution": {
     "iopub.execute_input": "2022-12-24T13:11:14.244995Z",
     "iopub.status.busy": "2022-12-24T13:11:14.244270Z",
     "iopub.status.idle": "2022-12-24T13:11:14.414960Z",
     "shell.execute_reply": "2022-12-24T13:11:14.414259Z"
    },
    "papermill": {
     "duration": 0.185874,
     "end_time": "2022-12-24T13:11:14.416771",
     "exception": false,
     "start_time": "2022-12-24T13:11:14.230897",
     "status": "completed"
    },
    "tags": []
   },
   "outputs": [
    {
     "data": {
      "image/png": "[encoded data removed]",
      "text/plain": [
       "<Figure size 432x288 with 1 Axes>"
      ]
     },
     "metadata": {
      "needs_background": "light"
     },
     "output_type": "display_data"
    }
   ],
   "source": [
    "fig, ax = plt.subplots()\n",
    "\n",
    "ax.scatter(coursera_best['course_rating'], coursera_best['overall_rating'])\n",
    "\n",
    "ax.set_xlabel('Course Rating')\n",
    "ax.set_ylabel('Overall Rating')\n",
    "ax.set_title('Course Rating vs. Overall Rating')\n",
    "\n",
    "ax.legend(['Scatter plot'])\n",
    "\n",
    "plt.show()"
   ]
  },
  {
   "cell_type": "markdown",
   "id": "da510062",
   "metadata": {
    "papermill": {
     "duration": 0.012405,
     "end_time": "2022-12-24T13:11:14.442239",
     "exception": false,
     "start_time": "2022-12-24T13:11:14.429834",
     "status": "completed"
    },
    "tags": []
   },
   "source": [
    "**This is a heatmap showing the correlations between the different features in your data set. The color of each square in the heatmap represents the strength of the correlation, with warmer colors (red and yellow) indicating a strong correlation and cooler colors (green and blue) indicating a weak or no correlation.**"
   ]
  },
  {
   "cell_type": "code",
   "execution_count": 22,
   "id": "f861ca5a",
   "metadata": {
    "execution": {
     "iopub.execute_input": "2022-12-24T13:11:14.469355Z",
     "iopub.status.busy": "2022-12-24T13:11:14.469035Z",
     "iopub.status.idle": "2022-12-24T13:11:14.473339Z",
     "shell.execute_reply": "2022-12-24T13:11:14.472461Z"
    },
    "papermill": {
     "duration": 0.020241,
     "end_time": "2022-12-24T13:11:14.475097",
     "exception": false,
     "start_time": "2022-12-24T13:11:14.454856",
     "status": "completed"
    },
    "tags": []
   },
   "outputs": [],
   "source": [
    "coursera_best_copy = coursera_best.copy()"
   ]
  },
  {
   "cell_type": "code",
   "execution_count": 23,
   "id": "5928bc5e",
   "metadata": {
    "execution": {
     "iopub.execute_input": "2022-12-24T13:11:14.501980Z",
     "iopub.status.busy": "2022-12-24T13:11:14.501551Z",
     "iopub.status.idle": "2022-12-24T13:11:14.714317Z",
     "shell.execute_reply": "2022-12-24T13:11:14.713496Z"
    },
    "papermill": {
     "duration": 0.228859,
     "end_time": "2022-12-24T13:11:14.717028",
     "exception": false,
     "start_time": "2022-12-24T13:11:14.488169",
     "status": "completed"
    },
    "tags": []
   },
   "outputs": [
    {
     "data": {
      "text/plain": [
       "<AxesSubplot:>"
      ]
     },
     "execution_count": 23,
     "metadata": {},
     "output_type": "execute_result"
    },
    {
     "data": {
      "image/png": "[encoded data removed]",
      "text/plain": [
       "<Figure size 432x288 with 2 Axes>"
      ]
     },
     "metadata": {
      "needs_background": "light"
     },
     "output_type": "display_data"
    }
   ],
   "source": [
    "data = coursera_best_copy\n",
    "\n",
    "# Calculating the correlations\n",
    "corr = data.corr()\n",
    "ax.legend(['heatmap'])\n",
    "# Ploting the correlations using a heatmap\n",
    "sns.heatmap(corr, xticklabels=corr.columns, yticklabels=corr.columns)\n"
   ]
  },
  {
   "cell_type": "code",
   "execution_count": 24,
   "id": "e03a33c9",
   "metadata": {
    "execution": {
     "iopub.execute_input": "2022-12-24T13:11:14.744981Z",
     "iopub.status.busy": "2022-12-24T13:11:14.744689Z",
     "iopub.status.idle": "2022-12-24T13:11:15.074469Z",
     "shell.execute_reply": "2022-12-24T13:11:15.073934Z"
    },
    "papermill": {
     "duration": 0.34523,
     "end_time": "2022-12-24T13:11:15.076122",
     "exception": false,
     "start_time": "2022-12-24T13:11:14.730892",
     "status": "completed"
    },
    "tags": []
   },
   "outputs": [
    {
     "data": {
      "text/plain": [
       "Text(0.5, 1.0, '\\nBest course providers\\n\\n')"
      ]
     },
     "execution_count": 24,
     "metadata": {},
     "output_type": "execute_result"
    },
    {
     "data": {
      "image/png": "[encoded data removed]",
      "text/plain": [
       "<Figure size 1800x360 with 1 Axes>"
      ]
     },
     "metadata": {},
     "output_type": "display_data"
    }
   ],
   "source": [
    "sns.set(rc={'figure.figsize':(25,5)})\n",
    "plt.xticks(fontsize=20,rotation='vertical')\n",
    "p=sns.barplot(x='course_organization',y=\"course_rating\",data=coursera_best,hue_order=coursera_new['overall_rating'])\n",
    "p.axes.set_title(\"\\nBest course providers\\n\\n\",fontsize=30)"
   ]
  },
  {
   "cell_type": "markdown",
   "id": "33120b7c",
   "metadata": {
    "papermill": {
     "duration": 0.013682,
     "end_time": "2022-12-24T13:11:15.103887",
     "exception": false,
     "start_time": "2022-12-24T13:11:15.090205",
     "status": "completed"
    },
    "tags": []
   },
   "source": [
    "The score method for a regression model returns the coefficient of determination (R^2), which is a measure of how well the model fits the data. A value of 1.0"
   ]
  },
  {
   "cell_type": "markdown",
   "id": "5a57421d",
   "metadata": {
    "papermill": {
     "duration": 0.013375,
     "end_time": "2022-12-24T13:11:15.131115",
     "exception": false,
     "start_time": "2022-12-24T13:11:15.117740",
     "status": "completed"
    },
    "tags": []
   },
   "source": [
    "The mean absolute error (MAE) is a measure of the difference between the predicted values and the true values. It is calculated as the average of the absolute errors between the predicted values and the true values. In this case, the MAE for the linear regression model is calculated using the test data, which is a sample of the data that was not used to train the model. The lower the MAE, the better the model's performance, as it indicates that the model is making predictions that are closer to the true values."
   ]
  },
  {
   "cell_type": "code",
   "execution_count": 25,
   "id": "d6d7b3e6",
   "metadata": {
    "execution": {
     "iopub.execute_input": "2022-12-24T13:11:15.159413Z",
     "iopub.status.busy": "2022-12-24T13:11:15.159139Z",
     "iopub.status.idle": "2022-12-24T13:11:15.182040Z",
     "shell.execute_reply": "2022-12-24T13:11:15.181007Z"
    },
    "papermill": {
     "duration": 0.038978,
     "end_time": "2022-12-24T13:11:15.183624",
     "exception": false,
     "start_time": "2022-12-24T13:11:15.144646",
     "status": "completed"
    },
    "tags": []
   },
   "outputs": [
    {
     "name": "stdout",
     "output_type": "stream",
     "text": [
      "Mean Absolute Error: 0.0\n"
     ]
    }
   ],
   "source": [
    "#spliting data into features and target\n",
    "X = coursera_best_copy[['course_rating', 'course_students_enrolled_modified', 'course_difficulty_modified']]\n",
    "y = coursera_best_copy['overall_rating']\n",
    "\n",
    "# Spliting the data into training and testing\n",
    "X_train, X_test, y_train, y_test = train_test_split(X, y, test_size=0.2, random_state=42)\n",
    "\n",
    "# Creating the model\n",
    "lr = LinearRegression()\n",
    "\n",
    "# Training the model using the training data\n",
    "lr.fit(X_train, y_train)\n",
    "\n",
    "# Predicting the target variable for the test data\n",
    "y_pred = lr.predict(X_test)\n",
    "\n",
    "# Evaluating the model's performance\n",
    "mae = mean_absolute_error(y_test, y_pred)\n",
    "print(\"Mean Absolute Error:\", mae)"
   ]
  },
  {
   "cell_type": "markdown",
   "id": "f4e7006e",
   "metadata": {
    "papermill": {
     "duration": 0.013536,
     "end_time": "2022-12-24T13:11:15.211426",
     "exception": false,
     "start_time": "2022-12-24T13:11:15.197890",
     "status": "completed"
    },
    "tags": []
   },
   "source": [
    "# Calculating the mean squared error, mean absolute error and the R-squared"
   ]
  },
  {
   "cell_type": "code",
   "execution_count": 26,
   "id": "244e0f1c",
   "metadata": {
    "execution": {
     "iopub.execute_input": "2022-12-24T13:11:15.239793Z",
     "iopub.status.busy": "2022-12-24T13:11:15.239498Z",
     "iopub.status.idle": "2022-12-24T13:11:15.245984Z",
     "shell.execute_reply": "2022-12-24T13:11:15.244864Z"
    },
    "papermill": {
     "duration": 0.022602,
     "end_time": "2022-12-24T13:11:15.247740",
     "exception": false,
     "start_time": "2022-12-24T13:11:15.225138",
     "status": "completed"
    },
    "tags": []
   },
   "outputs": [
    {
     "name": "stdout",
     "output_type": "stream",
     "text": [
      "Mean Squared Error: 0.0\n",
      "Mean Absolute Error: 0.0\n",
      "R-Squared: 1.0\n"
     ]
    }
   ],
   "source": [
    "mse = mean_squared_error(y_test, y_pred)\n",
    "\n",
    "mae = mean_absolute_error(y_test, y_pred)\n",
    "\n",
    "r2 = r2_score(y_test, y_pred)\n",
    "\n",
    "print(\"Mean Squared Error:\", mse)\n",
    "print(\"Mean Absolute Error:\", mae)\n",
    "print(\"R-Squared:\", r2)\n"
   ]
  },
  {
   "cell_type": "markdown",
   "id": "4ec2a298",
   "metadata": {
    "papermill": {
     "duration": 0.013791,
     "end_time": "2022-12-24T13:11:15.275896",
     "exception": false,
     "start_time": "2022-12-24T13:11:15.262105",
     "status": "completed"
    },
    "tags": []
   },
   "source": [
    "**Ploting the data and the linear regression line\n",
    "***note:** the linear regression model will attempt to find the line of best fit that describes the relationship between the independent variables (course rating, course students enrolled modified, and course difficulty modified) and the dependent variable (overall rating).**"
   ]
  },
  {
   "cell_type": "code",
   "execution_count": 27,
   "id": "27fdc5c2",
   "metadata": {
    "execution": {
     "iopub.execute_input": "2022-12-24T13:11:15.304240Z",
     "iopub.status.busy": "2022-12-24T13:11:15.303990Z",
     "iopub.status.idle": "2022-12-24T13:11:15.518987Z",
     "shell.execute_reply": "2022-12-24T13:11:15.518298Z"
    },
    "papermill": {
     "duration": 0.231021,
     "end_time": "2022-12-24T13:11:15.520682",
     "exception": false,
     "start_time": "2022-12-24T13:11:15.289661",
     "status": "completed"
    },
    "tags": []
   },
   "outputs": [
    {
     "data": {
      "image/png": "[encoded data removed]",
      "text/plain": [
       "<Figure size 1800x360 with 1 Axes>"
      ]
     },
     "metadata": {},
     "output_type": "display_data"
    }
   ],
   "source": [
    "# Create the scatter plot\n",
    "plt.scatter(y_test, y_pred, label=\"Actual vs Predicted\")\n",
    "plt.plot([y.min(), y.max()], [y.min(), y.max()], 'k--', lw=4, label=\"Ideal\")\n",
    "plt.xlabel('Actual values')\n",
    "plt.ylabel('Predicted values')\n",
    "\n",
    "# Add the legend\n",
    "plt.legend()\n",
    "\n",
    "plt.show()"
   ]
  },
  {
   "cell_type": "markdown",
   "id": "8ce7ba61",
   "metadata": {
    "papermill": {
     "duration": 0.013872,
     "end_time": "2022-12-24T13:11:15.548883",
     "exception": false,
     "start_time": "2022-12-24T13:11:15.535011",
     "status": "completed"
    },
    "tags": []
   },
   "source": [
    "# calculating the model accuaracy"
   ]
  },
  {
   "cell_type": "code",
   "execution_count": 28,
   "id": "0b5aa1ad",
   "metadata": {
    "execution": {
     "iopub.execute_input": "2022-12-24T13:11:15.578592Z",
     "iopub.status.busy": "2022-12-24T13:11:15.578033Z",
     "iopub.status.idle": "2022-12-24T13:11:15.588417Z",
     "shell.execute_reply": "2022-12-24T13:11:15.587414Z"
    },
    "papermill": {
     "duration": 0.027387,
     "end_time": "2022-12-24T13:11:15.590293",
     "exception": false,
     "start_time": "2022-12-24T13:11:15.562906",
     "status": "completed"
    },
    "tags": []
   },
   "outputs": [
    {
     "name": "stdout",
     "output_type": "stream",
     "text": [
      "Accuracy: 1.0\n"
     ]
    }
   ],
   "source": [
    "model = LinearRegression()\n",
    "\n",
    "# Train the model\n",
    "model.fit(X_train, y_train)\n",
    "\n",
    "# Predict the target variable for the test data\n",
    "y_pred = model.predict(X_test)\n",
    "\n",
    "# Evaluate the model's accuaracy\n",
    "accuracy = model.score(X_test, y_test)\n",
    "print(\"Accuracy:\", accuracy)\n"
   ]
  },
  {
   "cell_type": "markdown",
   "id": "3be137cd",
   "metadata": {
    "papermill": {
     "duration": 0.013832,
     "end_time": "2022-12-24T13:11:15.618704",
     "exception": false,
     "start_time": "2022-12-24T13:11:15.604872",
     "status": "completed"
    },
    "tags": []
   },
   "source": [
    "<div style=\"padding:20px;color:white;margin:0;font-size:220%;text-align:center;display:fill;border-radius:5px;background-color:#282f85;overflow:hidden;font-weight:500\">Key Findings and Insights</div>"
   ]
  },
  {
   "cell_type": "markdown",
   "id": "200f12b4",
   "metadata": {
    "papermill": {
     "duration": 0.013793,
     "end_time": "2022-12-24T13:11:15.646471",
     "exception": false,
     "start_time": "2022-12-24T13:11:15.632678",
     "status": "completed"
    },
    "tags": []
   },
   "source": [
    "# 📒 13. Key Findings and Insights\n",
    "\n",
    "1. Average course rating is quite higher, compared to lowest and maximum value. So, the cours quality is being maintained.\n",
    "2. Advanced courses' rating has some ups-and downs; maybe due to low frequency.\n",
    "3. Beginner course has distribution quite similiar to total rating chart, as big portion of the data is from them, and he number of beginner level courses are high.\n",
    "4. Intermidiate course's rating top is not as sharp of others, that may say - as the participants has some knowledge on the topic, they can judge better and being critical.\n",
    "5. Specializations has lower mean value than courses, but the distribution is interesting. specialization has good distribution values on right, but normal courses are on left.\n",
    "6. No effective coorelation between course_difficulty,course_students_enrolled, course rating.\n",
    "7. No effective coorelation between course_students_enrolled, course rating per university.\n",
    "8. Mean number of students enrolled per university has some positive corelation to number of courses offered by the university. The more courses are offered, the more students are enroled in average."
   ]
  },
  {
   "cell_type": "markdown",
   "id": "fd669aff",
   "metadata": {
    "papermill": {
     "duration": 0.013744,
     "end_time": "2022-12-24T13:11:15.674277",
     "exception": false,
     "start_time": "2022-12-24T13:11:15.660533",
     "status": "completed"
    },
    "tags": []
   },
   "source": [
    "<div style=\"padding:150px;color:white;margin:150;font-size:400%;text-align:center;display:fill;border-radius:5px;background-color:#282c5c;overflow:hidden;font-weight:800\">Upvote, Comment, Share</div>"
   ]
  }
 ],
 "metadata": {
  "kernelspec": {
   "display_name": "Python 3",
   "language": "python",
   "name": "python3"
  },
  "language_info": {
   "codemirror_mode": {
    "name": "ipython",
    "version": 3
   },
   "file_extension": ".py",
   "mimetype": "text/x-python",
   "name": "python",
   "nbconvert_exporter": "python",
   "pygments_lexer": "ipython3",
   "version": "3.7.12"
  },
  "papermill": {
   "default_parameters": {},
   "duration": 10.716864,
   "end_time": "2022-12-24T13:11:16.307085",
   "environment_variables": {},
   "exception": null,
   "input_path": "__notebook__.ipynb",
   "output_path": "__notebook__.ipynb",
   "parameters": {},
   "start_time": "2022-12-24T13:11:05.590221",
   "version": "2.3.4"
  }
 },
 "nbformat": 4,
 "nbformat_minor": 5
}
